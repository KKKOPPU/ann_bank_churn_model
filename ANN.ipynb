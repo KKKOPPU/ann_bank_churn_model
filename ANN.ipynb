{
 "cells": [
  {
   "cell_type": "code",
   "execution_count": 1,
   "metadata": {},
   "outputs": [],
   "source": [
    "import pandas as pd\n",
    "import numpy as np\n",
    "import tensorflow as tf\n",
    "\n",
    "from sklearn.model_selection import train_test_split\n",
    "from sklearn.preprocessing import LabelEncoder, OneHotEncoder, StandardScaler\n",
    "from sklearn.compose import ColumnTransformer\n",
    "from sklearn.metrics import confusion_matrix,accuracy_score"
   ]
  },
  {
   "cell_type": "code",
   "execution_count": 2,
   "metadata": {},
   "outputs": [],
   "source": [
    "filepath = \"Churn_Modelling.csv\"\n",
    "\n",
    "dataset = pd.read_csv(filepath)"
   ]
  },
  {
   "cell_type": "code",
   "execution_count": 3,
   "metadata": {},
   "outputs": [
    {
     "data": {
      "text/html": [
       "<div>\n",
       "<style scoped>\n",
       "    .dataframe tbody tr th:only-of-type {\n",
       "        vertical-align: middle;\n",
       "    }\n",
       "\n",
       "    .dataframe tbody tr th {\n",
       "        vertical-align: top;\n",
       "    }\n",
       "\n",
       "    .dataframe thead th {\n",
       "        text-align: right;\n",
       "    }\n",
       "</style>\n",
       "<table border=\"1\" class=\"dataframe\">\n",
       "  <thead>\n",
       "    <tr style=\"text-align: right;\">\n",
       "      <th></th>\n",
       "      <th>RowNumber</th>\n",
       "      <th>CustomerId</th>\n",
       "      <th>Surname</th>\n",
       "      <th>CreditScore</th>\n",
       "      <th>Geography</th>\n",
       "      <th>Gender</th>\n",
       "      <th>Age</th>\n",
       "      <th>Tenure</th>\n",
       "      <th>Balance</th>\n",
       "      <th>NumOfProducts</th>\n",
       "      <th>HasCrCard</th>\n",
       "      <th>IsActiveMember</th>\n",
       "      <th>EstimatedSalary</th>\n",
       "      <th>Exited</th>\n",
       "    </tr>\n",
       "  </thead>\n",
       "  <tbody>\n",
       "    <tr>\n",
       "      <th>0</th>\n",
       "      <td>1</td>\n",
       "      <td>15634602</td>\n",
       "      <td>Hargrave</td>\n",
       "      <td>619</td>\n",
       "      <td>France</td>\n",
       "      <td>Female</td>\n",
       "      <td>42</td>\n",
       "      <td>2</td>\n",
       "      <td>0.00</td>\n",
       "      <td>1</td>\n",
       "      <td>1</td>\n",
       "      <td>1</td>\n",
       "      <td>101348.88</td>\n",
       "      <td>1</td>\n",
       "    </tr>\n",
       "    <tr>\n",
       "      <th>1</th>\n",
       "      <td>2</td>\n",
       "      <td>15647311</td>\n",
       "      <td>Hill</td>\n",
       "      <td>608</td>\n",
       "      <td>Spain</td>\n",
       "      <td>Female</td>\n",
       "      <td>41</td>\n",
       "      <td>1</td>\n",
       "      <td>83807.86</td>\n",
       "      <td>1</td>\n",
       "      <td>0</td>\n",
       "      <td>1</td>\n",
       "      <td>112542.58</td>\n",
       "      <td>0</td>\n",
       "    </tr>\n",
       "    <tr>\n",
       "      <th>2</th>\n",
       "      <td>3</td>\n",
       "      <td>15619304</td>\n",
       "      <td>Onio</td>\n",
       "      <td>502</td>\n",
       "      <td>France</td>\n",
       "      <td>Female</td>\n",
       "      <td>42</td>\n",
       "      <td>8</td>\n",
       "      <td>159660.80</td>\n",
       "      <td>3</td>\n",
       "      <td>1</td>\n",
       "      <td>0</td>\n",
       "      <td>113931.57</td>\n",
       "      <td>1</td>\n",
       "    </tr>\n",
       "    <tr>\n",
       "      <th>3</th>\n",
       "      <td>4</td>\n",
       "      <td>15701354</td>\n",
       "      <td>Boni</td>\n",
       "      <td>699</td>\n",
       "      <td>France</td>\n",
       "      <td>Female</td>\n",
       "      <td>39</td>\n",
       "      <td>1</td>\n",
       "      <td>0.00</td>\n",
       "      <td>2</td>\n",
       "      <td>0</td>\n",
       "      <td>0</td>\n",
       "      <td>93826.63</td>\n",
       "      <td>0</td>\n",
       "    </tr>\n",
       "    <tr>\n",
       "      <th>4</th>\n",
       "      <td>5</td>\n",
       "      <td>15737888</td>\n",
       "      <td>Mitchell</td>\n",
       "      <td>850</td>\n",
       "      <td>Spain</td>\n",
       "      <td>Female</td>\n",
       "      <td>43</td>\n",
       "      <td>2</td>\n",
       "      <td>125510.82</td>\n",
       "      <td>1</td>\n",
       "      <td>1</td>\n",
       "      <td>1</td>\n",
       "      <td>79084.10</td>\n",
       "      <td>0</td>\n",
       "    </tr>\n",
       "  </tbody>\n",
       "</table>\n",
       "</div>"
      ],
      "text/plain": [
       "   RowNumber  CustomerId   Surname  CreditScore Geography  Gender  Age  \\\n",
       "0          1    15634602  Hargrave          619    France  Female   42   \n",
       "1          2    15647311      Hill          608     Spain  Female   41   \n",
       "2          3    15619304      Onio          502    France  Female   42   \n",
       "3          4    15701354      Boni          699    France  Female   39   \n",
       "4          5    15737888  Mitchell          850     Spain  Female   43   \n",
       "\n",
       "   Tenure    Balance  NumOfProducts  HasCrCard  IsActiveMember  \\\n",
       "0       2       0.00              1          1               1   \n",
       "1       1   83807.86              1          0               1   \n",
       "2       8  159660.80              3          1               0   \n",
       "3       1       0.00              2          0               0   \n",
       "4       2  125510.82              1          1               1   \n",
       "\n",
       "   EstimatedSalary  Exited  \n",
       "0        101348.88       1  \n",
       "1        112542.58       0  \n",
       "2        113931.57       1  \n",
       "3         93826.63       0  \n",
       "4         79084.10       0  "
      ]
     },
     "execution_count": 3,
     "metadata": {},
     "output_type": "execute_result"
    }
   ],
   "source": [
    "dataset.head()"
   ]
  },
  {
   "cell_type": "code",
   "execution_count": 4,
   "metadata": {},
   "outputs": [],
   "source": [
    "X = dataset.iloc[:,3:-1].values\n",
    "y = dataset.iloc[:,-1].values"
   ]
  },
  {
   "cell_type": "code",
   "execution_count": 5,
   "metadata": {},
   "outputs": [
    {
     "data": {
      "text/plain": [
       "array([[619, 'France', 'Female', 42, 2, 0.0, 1, 1, 1, 101348.88],\n",
       "       [608, 'Spain', 'Female', 41, 1, 83807.86, 1, 0, 1, 112542.58],\n",
       "       [502, 'France', 'Female', 42, 8, 159660.8, 3, 1, 0, 113931.57],\n",
       "       [699, 'France', 'Female', 39, 1, 0.0, 2, 0, 0, 93826.63],\n",
       "       [850, 'Spain', 'Female', 43, 2, 125510.82, 1, 1, 1, 79084.1]],\n",
       "      dtype=object)"
      ]
     },
     "execution_count": 5,
     "metadata": {},
     "output_type": "execute_result"
    }
   ],
   "source": [
    "X[0:5]"
   ]
  },
  {
   "cell_type": "code",
   "execution_count": 6,
   "metadata": {},
   "outputs": [],
   "source": [
    "le = LabelEncoder()\n",
    "X[:,2] = le.fit_transform(X[:,2])"
   ]
  },
  {
   "cell_type": "code",
   "execution_count": 7,
   "metadata": {},
   "outputs": [
    {
     "data": {
      "text/plain": [
       "array([[619, 'France', 0, 42, 2, 0.0, 1, 1, 1, 101348.88],\n",
       "       [608, 'Spain', 0, 41, 1, 83807.86, 1, 0, 1, 112542.58],\n",
       "       [502, 'France', 0, 42, 8, 159660.8, 3, 1, 0, 113931.57],\n",
       "       [699, 'France', 0, 39, 1, 0.0, 2, 0, 0, 93826.63],\n",
       "       [850, 'Spain', 0, 43, 2, 125510.82, 1, 1, 1, 79084.1]],\n",
       "      dtype=object)"
      ]
     },
     "execution_count": 7,
     "metadata": {},
     "output_type": "execute_result"
    }
   ],
   "source": [
    "X[0:5]"
   ]
  },
  {
   "cell_type": "code",
   "execution_count": 8,
   "metadata": {},
   "outputs": [
    {
     "data": {
      "text/plain": [
       "array(['Female', 'Male'], dtype=object)"
      ]
     },
     "execution_count": 8,
     "metadata": {},
     "output_type": "execute_result"
    }
   ],
   "source": [
    "le.classes_"
   ]
  },
  {
   "cell_type": "code",
   "execution_count": 9,
   "metadata": {},
   "outputs": [
    {
     "name": "stdout",
     "output_type": "stream",
     "text": [
      "[1]\n",
      "[0]\n"
     ]
    }
   ],
   "source": [
    "print(le.transform(['Male']))\n",
    "print(le.transform(['Female']))"
   ]
  },
  {
   "cell_type": "code",
   "execution_count": 10,
   "metadata": {},
   "outputs": [
    {
     "name": "stdout",
     "output_type": "stream",
     "text": [
      "['Male']\n",
      "['Female']\n"
     ]
    }
   ],
   "source": [
    "print(le.inverse_transform([1]))\n",
    "print(le.inverse_transform([0]))"
   ]
  },
  {
   "cell_type": "code",
   "execution_count": 11,
   "metadata": {},
   "outputs": [],
   "source": [
    "ct = ColumnTransformer(transformers =[('encoder',OneHotEncoder(),[1])],remainder='passthrough')\n",
    "X = np.array(ct.fit_transform(X))"
   ]
  },
  {
   "cell_type": "code",
   "execution_count": 12,
   "metadata": {},
   "outputs": [
    {
     "data": {
      "text/plain": [
       "array([[1.0, 0.0, 0.0, 619, 0, 42, 2, 0.0, 1, 1, 1, 101348.88],\n",
       "       [0.0, 0.0, 1.0, 608, 0, 41, 1, 83807.86, 1, 0, 1, 112542.58],\n",
       "       [1.0, 0.0, 0.0, 502, 0, 42, 8, 159660.8, 3, 1, 0, 113931.57],\n",
       "       [1.0, 0.0, 0.0, 699, 0, 39, 1, 0.0, 2, 0, 0, 93826.63],\n",
       "       [0.0, 0.0, 1.0, 850, 0, 43, 2, 125510.82, 1, 1, 1, 79084.1]],\n",
       "      dtype=object)"
      ]
     },
     "execution_count": 12,
     "metadata": {},
     "output_type": "execute_result"
    }
   ],
   "source": [
    "X[:5]"
   ]
  },
  {
   "cell_type": "code",
   "execution_count": 13,
   "metadata": {},
   "outputs": [],
   "source": [
    "X_train, X_test, y_train, y_test = train_test_split(X,y,test_size = 0.2, random_state = 0) # Splitting data"
   ]
  },
  {
   "cell_type": "code",
   "execution_count": 14,
   "metadata": {},
   "outputs": [],
   "source": [
    "sc = StandardScaler() # Feature Scaling"
   ]
  },
  {
   "cell_type": "code",
   "execution_count": 15,
   "metadata": {},
   "outputs": [],
   "source": [
    "X_train = sc.fit_transform(X_train)\n",
    "X_test = sc.transform(X_test)"
   ]
  },
  {
   "cell_type": "markdown",
   "metadata": {},
   "source": [
    "Training ANN"
   ]
  },
  {
   "cell_type": "code",
   "execution_count": 16,
   "metadata": {},
   "outputs": [],
   "source": [
    "ann = tf.keras.models.Sequential()"
   ]
  },
  {
   "cell_type": "code",
   "execution_count": 17,
   "metadata": {},
   "outputs": [],
   "source": [
    "ann.add(tf.keras.layers.Dense(units=8, activation='relu'))\n",
    "ann.add(tf.keras.layers.Dense(units=8, activation='relu'))\n",
    "ann.add(tf.keras.layers.Dense(units=1, activation='sigmoid'))\n",
    "ann.compile(optimizer='adam',loss='binary_crossentropy',metrics=['accuracy'])"
   ]
  },
  {
   "cell_type": "code",
   "execution_count": 18,
   "metadata": {},
   "outputs": [
    {
     "name": "stdout",
     "output_type": "stream",
     "text": [
      "Epoch 1/100\n",
      "250/250 [==============================] - 1s 661us/step - loss: 0.5775 - accuracy: 0.7300\n",
      "Epoch 2/100\n",
      "250/250 [==============================] - 0s 664us/step - loss: 0.4724 - accuracy: 0.8008\n",
      "Epoch 3/100\n",
      "250/250 [==============================] - 0s 696us/step - loss: 0.4429 - accuracy: 0.8086\n",
      "Epoch 4/100\n",
      "250/250 [==============================] - 0s 687us/step - loss: 0.4276 - accuracy: 0.8101\n",
      "Epoch 5/100\n",
      "250/250 [==============================] - 0s 825us/step - loss: 0.4157 - accuracy: 0.8150\n",
      "Epoch 6/100\n",
      "250/250 [==============================] - 0s 556us/step - loss: 0.4040 - accuracy: 0.8227\n",
      "Epoch 7/100\n",
      "250/250 [==============================] - 0s 619us/step - loss: 0.3918 - accuracy: 0.8334\n",
      "Epoch 8/100\n",
      "250/250 [==============================] - 0s 626us/step - loss: 0.3803 - accuracy: 0.8420\n",
      "Epoch 9/100\n",
      "250/250 [==============================] - 0s 617us/step - loss: 0.3693 - accuracy: 0.8469\n",
      "Epoch 10/100\n",
      "250/250 [==============================] - 0s 643us/step - loss: 0.3618 - accuracy: 0.8505\n",
      "Epoch 11/100\n",
      "250/250 [==============================] - 0s 649us/step - loss: 0.3561 - accuracy: 0.8546\n",
      "Epoch 12/100\n",
      "250/250 [==============================] - 0s 622us/step - loss: 0.3521 - accuracy: 0.8558\n",
      "Epoch 13/100\n",
      "250/250 [==============================] - 0s 649us/step - loss: 0.3496 - accuracy: 0.8564\n",
      "Epoch 14/100\n",
      "250/250 [==============================] - 0s 613us/step - loss: 0.3475 - accuracy: 0.8594\n",
      "Epoch 15/100\n",
      "250/250 [==============================] - 0s 575us/step - loss: 0.3457 - accuracy: 0.8593\n",
      "Epoch 16/100\n",
      "250/250 [==============================] - 0s 577us/step - loss: 0.3444 - accuracy: 0.8609\n",
      "Epoch 17/100\n",
      "250/250 [==============================] - 0s 576us/step - loss: 0.3428 - accuracy: 0.8604\n",
      "Epoch 18/100\n",
      "250/250 [==============================] - 0s 585us/step - loss: 0.3419 - accuracy: 0.8605\n",
      "Epoch 19/100\n",
      "250/250 [==============================] - 0s 606us/step - loss: 0.3404 - accuracy: 0.8620\n",
      "Epoch 20/100\n",
      "250/250 [==============================] - 0s 596us/step - loss: 0.3400 - accuracy: 0.8610\n",
      "Epoch 21/100\n",
      "250/250 [==============================] - 0s 581us/step - loss: 0.3398 - accuracy: 0.8621\n",
      "Epoch 22/100\n",
      "250/250 [==============================] - 0s 595us/step - loss: 0.3395 - accuracy: 0.8615\n",
      "Epoch 23/100\n",
      "250/250 [==============================] - 0s 629us/step - loss: 0.3386 - accuracy: 0.8608\n",
      "Epoch 24/100\n",
      "250/250 [==============================] - 0s 613us/step - loss: 0.3381 - accuracy: 0.8610\n",
      "Epoch 25/100\n",
      "250/250 [==============================] - 0s 596us/step - loss: 0.3376 - accuracy: 0.8616\n",
      "Epoch 26/100\n",
      "250/250 [==============================] - 0s 572us/step - loss: 0.3371 - accuracy: 0.8629\n",
      "Epoch 27/100\n",
      "250/250 [==============================] - 0s 590us/step - loss: 0.3368 - accuracy: 0.8610\n",
      "Epoch 28/100\n",
      "250/250 [==============================] - 0s 574us/step - loss: 0.3367 - accuracy: 0.8619\n",
      "Epoch 29/100\n",
      "250/250 [==============================] - 0s 604us/step - loss: 0.3360 - accuracy: 0.8626\n",
      "Epoch 30/100\n",
      "250/250 [==============================] - 0s 628us/step - loss: 0.3357 - accuracy: 0.8621\n",
      "Epoch 31/100\n",
      "250/250 [==============================] - 0s 691us/step - loss: 0.3355 - accuracy: 0.8615\n",
      "Epoch 32/100\n",
      "250/250 [==============================] - 0s 764us/step - loss: 0.3352 - accuracy: 0.8606\n",
      "Epoch 33/100\n",
      "250/250 [==============================] - 0s 761us/step - loss: 0.3345 - accuracy: 0.8625\n",
      "Epoch 34/100\n",
      "250/250 [==============================] - 0s 669us/step - loss: 0.3343 - accuracy: 0.8635\n",
      "Epoch 35/100\n",
      "250/250 [==============================] - 0s 616us/step - loss: 0.3346 - accuracy: 0.8615\n",
      "Epoch 36/100\n",
      "250/250 [==============================] - 0s 680us/step - loss: 0.3343 - accuracy: 0.8621\n",
      "Epoch 37/100\n",
      "250/250 [==============================] - 0s 700us/step - loss: 0.3336 - accuracy: 0.8624\n",
      "Epoch 38/100\n",
      "250/250 [==============================] - 0s 656us/step - loss: 0.3331 - accuracy: 0.8625\n",
      "Epoch 39/100\n",
      "250/250 [==============================] - 0s 678us/step - loss: 0.3327 - accuracy: 0.8630\n",
      "Epoch 40/100\n",
      "250/250 [==============================] - 0s 630us/step - loss: 0.3328 - accuracy: 0.8609\n",
      "Epoch 41/100\n",
      "250/250 [==============================] - 0s 612us/step - loss: 0.3325 - accuracy: 0.8616\n",
      "Epoch 42/100\n",
      "250/250 [==============================] - 0s 609us/step - loss: 0.3321 - accuracy: 0.8624\n",
      "Epoch 43/100\n",
      "250/250 [==============================] - 0s 721us/step - loss: 0.3322 - accuracy: 0.8625\n",
      "Epoch 44/100\n",
      "250/250 [==============================] - 0s 641us/step - loss: 0.3318 - accuracy: 0.8620\n",
      "Epoch 45/100\n",
      "250/250 [==============================] - 0s 757us/step - loss: 0.3318 - accuracy: 0.8615\n",
      "Epoch 46/100\n",
      "250/250 [==============================] - 0s 696us/step - loss: 0.3320 - accuracy: 0.8634\n",
      "Epoch 47/100\n",
      "250/250 [==============================] - 0s 657us/step - loss: 0.3313 - accuracy: 0.8631\n",
      "Epoch 48/100\n",
      "250/250 [==============================] - 0s 673us/step - loss: 0.3311 - accuracy: 0.8640\n",
      "Epoch 49/100\n",
      "250/250 [==============================] - 0s 611us/step - loss: 0.3315 - accuracy: 0.8619\n",
      "Epoch 50/100\n",
      "250/250 [==============================] - 0s 648us/step - loss: 0.3307 - accuracy: 0.8624\n",
      "Epoch 51/100\n",
      "250/250 [==============================] - 0s 645us/step - loss: 0.3313 - accuracy: 0.8622\n",
      "Epoch 52/100\n",
      "250/250 [==============================] - 0s 620us/step - loss: 0.3311 - accuracy: 0.8627\n",
      "Epoch 53/100\n",
      "250/250 [==============================] - 0s 639us/step - loss: 0.3302 - accuracy: 0.8633\n",
      "Epoch 54/100\n",
      "250/250 [==============================] - 0s 593us/step - loss: 0.3308 - accuracy: 0.8621\n",
      "Epoch 55/100\n",
      "250/250 [==============================] - 0s 717us/step - loss: 0.3304 - accuracy: 0.8615\n",
      "Epoch 56/100\n",
      "250/250 [==============================] - 0s 649us/step - loss: 0.3305 - accuracy: 0.8634\n",
      "Epoch 57/100\n",
      "250/250 [==============================] - 0s 682us/step - loss: 0.3299 - accuracy: 0.8635\n",
      "Epoch 58/100\n",
      "250/250 [==============================] - 0s 734us/step - loss: 0.3296 - accuracy: 0.8625\n",
      "Epoch 59/100\n",
      "250/250 [==============================] - 0s 682us/step - loss: 0.3296 - accuracy: 0.8633\n",
      "Epoch 60/100\n",
      "250/250 [==============================] - 0s 746us/step - loss: 0.3297 - accuracy: 0.8626\n",
      "Epoch 61/100\n",
      "250/250 [==============================] - 0s 691us/step - loss: 0.3291 - accuracy: 0.8643\n",
      "Epoch 62/100\n",
      "250/250 [==============================] - 0s 617us/step - loss: 0.3293 - accuracy: 0.8625\n",
      "Epoch 63/100\n",
      "250/250 [==============================] - 0s 640us/step - loss: 0.3297 - accuracy: 0.8608\n",
      "Epoch 64/100\n",
      "250/250 [==============================] - 0s 632us/step - loss: 0.3292 - accuracy: 0.8627\n",
      "Epoch 65/100\n",
      "250/250 [==============================] - 0s 669us/step - loss: 0.3291 - accuracy: 0.8624\n",
      "Epoch 66/100\n",
      "250/250 [==============================] - 0s 632us/step - loss: 0.3290 - accuracy: 0.8634\n",
      "Epoch 67/100\n",
      "250/250 [==============================] - 0s 652us/step - loss: 0.3290 - accuracy: 0.8643\n",
      "Epoch 68/100\n",
      "250/250 [==============================] - 0s 609us/step - loss: 0.3288 - accuracy: 0.8639\n",
      "Epoch 69/100\n",
      "250/250 [==============================] - 0s 641us/step - loss: 0.3285 - accuracy: 0.8624\n",
      "Epoch 70/100\n",
      "250/250 [==============================] - 0s 604us/step - loss: 0.3286 - accuracy: 0.8633\n",
      "Epoch 71/100\n",
      "250/250 [==============================] - 0s 591us/step - loss: 0.3285 - accuracy: 0.8627\n",
      "Epoch 72/100\n",
      "250/250 [==============================] - 0s 653us/step - loss: 0.3284 - accuracy: 0.8633\n",
      "Epoch 73/100\n",
      "250/250 [==============================] - 0s 670us/step - loss: 0.3288 - accuracy: 0.8626\n",
      "Epoch 74/100\n",
      "250/250 [==============================] - 0s 633us/step - loss: 0.3281 - accuracy: 0.8655\n",
      "Epoch 75/100\n",
      "250/250 [==============================] - 0s 626us/step - loss: 0.3283 - accuracy: 0.8631\n",
      "Epoch 76/100\n",
      "250/250 [==============================] - 0s 638us/step - loss: 0.3282 - accuracy: 0.8635\n",
      "Epoch 77/100\n",
      "250/250 [==============================] - 0s 681us/step - loss: 0.3281 - accuracy: 0.8627\n",
      "Epoch 78/100\n",
      "250/250 [==============================] - 0s 684us/step - loss: 0.3281 - accuracy: 0.8615\n",
      "Epoch 79/100\n",
      "250/250 [==============================] - 0s 677us/step - loss: 0.3279 - accuracy: 0.8635\n",
      "Epoch 80/100\n",
      "250/250 [==============================] - 0s 681us/step - loss: 0.3279 - accuracy: 0.8636\n",
      "Epoch 81/100\n",
      "250/250 [==============================] - 0s 646us/step - loss: 0.3278 - accuracy: 0.8650\n",
      "Epoch 82/100\n",
      "250/250 [==============================] - 0s 652us/step - loss: 0.3274 - accuracy: 0.8633\n",
      "Epoch 83/100\n",
      "250/250 [==============================] - 0s 686us/step - loss: 0.3279 - accuracy: 0.8639\n",
      "Epoch 84/100\n",
      "250/250 [==============================] - 0s 732us/step - loss: 0.3274 - accuracy: 0.8641\n",
      "Epoch 85/100\n",
      "250/250 [==============================] - 0s 640us/step - loss: 0.3275 - accuracy: 0.8629\n",
      "Epoch 86/100\n",
      "250/250 [==============================] - 0s 645us/step - loss: 0.3273 - accuracy: 0.8616\n",
      "Epoch 87/100\n",
      "250/250 [==============================] - 0s 656us/step - loss: 0.3274 - accuracy: 0.8635\n",
      "Epoch 88/100\n",
      "250/250 [==============================] - 0s 657us/step - loss: 0.3273 - accuracy: 0.8627\n",
      "Epoch 89/100\n",
      "250/250 [==============================] - 0s 672us/step - loss: 0.3269 - accuracy: 0.8627\n",
      "Epoch 90/100\n",
      "250/250 [==============================] - 0s 693us/step - loss: 0.3272 - accuracy: 0.8637\n",
      "Epoch 91/100\n",
      "250/250 [==============================] - 0s 759us/step - loss: 0.3270 - accuracy: 0.8645\n",
      "Epoch 92/100\n",
      "250/250 [==============================] - 0s 774us/step - loss: 0.3260 - accuracy: 0.8640\n",
      "Epoch 93/100\n",
      "250/250 [==============================] - 0s 725us/step - loss: 0.3275 - accuracy: 0.8626\n",
      "Epoch 94/100\n",
      "250/250 [==============================] - 0s 663us/step - loss: 0.3269 - accuracy: 0.8619\n",
      "Epoch 95/100\n",
      "250/250 [==============================] - 0s 722us/step - loss: 0.3268 - accuracy: 0.8640\n",
      "Epoch 96/100\n",
      "250/250 [==============================] - 0s 698us/step - loss: 0.3273 - accuracy: 0.8627\n",
      "Epoch 97/100\n",
      "250/250 [==============================] - 0s 653us/step - loss: 0.3268 - accuracy: 0.8633\n",
      "Epoch 98/100\n",
      "250/250 [==============================] - 0s 601us/step - loss: 0.3271 - accuracy: 0.8629\n",
      "Epoch 99/100\n",
      "250/250 [==============================] - 0s 607us/step - loss: 0.3265 - accuracy: 0.8624\n",
      "Epoch 100/100\n",
      "250/250 [==============================] - 0s 629us/step - loss: 0.3267 - accuracy: 0.8627\n"
     ]
    },
    {
     "data": {
      "text/plain": [
       "<tensorflow.python.keras.callbacks.History at 0x2bace0510a0>"
      ]
     },
     "execution_count": 18,
     "metadata": {},
     "output_type": "execute_result"
    }
   ],
   "source": [
    "ann.fit(X_train,y_train, batch_size= 32, epochs=100)"
   ]
  },
  {
   "cell_type": "markdown",
   "metadata": {},
   "source": [
    "Prediction"
   ]
  },
  {
   "cell_type": "code",
   "execution_count": 25,
   "metadata": {},
   "outputs": [
    {
     "name": "stdout",
     "output_type": "stream",
     "text": [
      "Prediction :  [[0.0379841]]\n",
      "Should we say goodbye to this customer ? : NO\n"
     ]
    }
   ],
   "source": [
    "test_case = np.array([[600, 'France', 'Male', 40, 3, 60000, 2, 1, 1, 50000]])    # manually have to set numpy array as it is the only array which supports slicing with tuple which we'll use in LabelEncoder\n",
    "test_case[:,2] = le.transform(test_case[:,2])    # Using LabelEncoder to convert Male/Female in 1/0 format\n",
    "test_case = ct.transform(test_case)    # Using OneHotEncoder to convert countries in binary format\n",
    "test_case = sc.transform(test_case)    # Feature Scaling our test case\n",
    "print('Prediction : ',ann.predict(test_case))\n",
    "print('Should we say goodbye to this customer ? :','YES' if ann.predict([test_case]) > 0.5 else 'NO') # If predicted value is > 0.5, then customer leaves the bank, else No"
   ]
  },
  {
   "cell_type": "code",
   "execution_count": 20,
   "metadata": {},
   "outputs": [
    {
     "data": {
      "text/plain": [
       "array([[0.2494942 ],\n",
       "       [0.38138732],\n",
       "       [0.10110426],\n",
       "       ...,\n",
       "       [0.1845175 ],\n",
       "       [0.23494455],\n",
       "       [0.26284117]], dtype=float32)"
      ]
     },
     "execution_count": 20,
     "metadata": {},
     "output_type": "execute_result"
    }
   ],
   "source": [
    "y_pred = ann.predict(X_test)\n",
    "y_pred"
   ]
  },
  {
   "cell_type": "code",
   "execution_count": 21,
   "metadata": {},
   "outputs": [
    {
     "data": {
      "text/plain": [
       "array([[0],\n",
       "       [0],\n",
       "       [0],\n",
       "       ...,\n",
       "       [0],\n",
       "       [0],\n",
       "       [0]])"
      ]
     },
     "execution_count": 21,
     "metadata": {},
     "output_type": "execute_result"
    }
   ],
   "source": [
    "y_pred = (y_pred > 0.5).astype(int)\n",
    "y_pred"
   ]
  },
  {
   "cell_type": "code",
   "execution_count": 22,
   "metadata": {},
   "outputs": [
    {
     "data": {
      "text/plain": [
       "array([[0, 0],\n",
       "       [0, 1],\n",
       "       [0, 0],\n",
       "       ...,\n",
       "       [0, 0],\n",
       "       [0, 0],\n",
       "       [0, 0]], dtype=int64)"
      ]
     },
     "execution_count": 22,
     "metadata": {},
     "output_type": "execute_result"
    }
   ],
   "source": [
    "np.concatenate((y_pred.reshape(-1,1),y_test.reshape(-1,1)),1)"
   ]
  },
  {
   "cell_type": "markdown",
   "metadata": {},
   "source": [
    "Confusion matrix & Accuracy score"
   ]
  },
  {
   "cell_type": "code",
   "execution_count": 23,
   "metadata": {},
   "outputs": [
    {
     "data": {
      "text/plain": [
       "array([[1507,   88],\n",
       "       [ 189,  216]], dtype=int64)"
      ]
     },
     "execution_count": 23,
     "metadata": {},
     "output_type": "execute_result"
    }
   ],
   "source": [
    "cm = confusion_matrix(y_test,y_pred)\n",
    "cm"
   ]
  },
  {
   "cell_type": "code",
   "execution_count": 24,
   "metadata": {},
   "outputs": [
    {
     "data": {
      "text/plain": [
       "0.8615"
      ]
     },
     "execution_count": 24,
     "metadata": {},
     "output_type": "execute_result"
    }
   ],
   "source": [
    "accuracy_score(y_test,y_pred)"
   ]
  }
 ],
 "metadata": {
  "kernelspec": {
   "display_name": "Python 3",
   "language": "python",
   "name": "python3"
  },
  "language_info": {
   "codemirror_mode": {
    "name": "ipython",
    "version": 3
   },
   "file_extension": ".py",
   "mimetype": "text/x-python",
   "name": "python",
   "nbconvert_exporter": "python",
   "pygments_lexer": "ipython3",
   "version": "3.8.3"
  }
 },
 "nbformat": 4,
 "nbformat_minor": 4
}
